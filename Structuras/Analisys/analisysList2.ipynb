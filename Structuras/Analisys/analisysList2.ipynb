{
 "cells": [
  {
   "cell_type": "markdown",
   "metadata": {},
   "source": [
    "<p style=\"text-align:center;\">ESTRUCTURA DE DATOS</p>\n",
    "\n",
    "<p style=\"text-align:center;\">Implementacion y Analisis complejidad de LinkdList, TailLinkdList y DoubleLinkdList</p>\n",
    "\n",
    "\n",
    "<p style=\"text-align:center;\"> Jared Mijail Ramirez Escalante </p>\n",
    "<p style=\"text-align:center;\"> Jramirezes@unal.edu.co </p>\n"
   ]
  },
  {
   "cell_type": "code",
   "execution_count": null,
   "metadata": {},
   "outputs": [
    {
     "ename": "ImportError",
     "evalue": "dynamic module does not define module export function (PyInit_LinkedListTail)",
     "output_type": "error",
     "traceback": [
      "\u001b[1;31m---------------------------------------------------------------------------\u001b[0m",
      "\u001b[1;31mImportError\u001b[0m                               Traceback (most recent call last)",
      "Cell \u001b[1;32mIn[5], line 2\u001b[0m\n\u001b[0;32m      1\u001b[0m \u001b[38;5;66;03m# Importar el módulo que contiene la clase StaticArrayList\u001b[39;00m\n\u001b[1;32m----> 2\u001b[0m \u001b[38;5;28;01mfrom\u001b[39;00m \u001b[38;5;21;01mstructures\u001b[39;00m \u001b[38;5;28;01mimport\u001b[39;00m LinkedListTail \u001b[38;5;28;01mas\u001b[39;00m listPy\n\u001b[0;32m      4\u001b[0m \u001b[38;5;66;03m# Crear una lista estática con capacidad 5\u001b[39;00m\n\u001b[0;32m      5\u001b[0m array_list \u001b[38;5;241m=\u001b[39m listPy\u001b[38;5;241m.\u001b[39mLinkedList()\n",
      "\u001b[1;31mImportError\u001b[0m: dynamic module does not define module export function (PyInit_LinkedListTail)"
     ]
    }
   ],
   "source": [
    "# Importar el módulo que contiene la clase StaticArrayList\n",
    "from structures import LinkedListTail as listPy\n",
    "\n",
    "# Crear una lista estática con capacidad 5\n",
    "array_list = listPy.LinkedList()\n",
    "\n",
    "# Verificar si la lista está vacía\n",
    "print(\"¿La lista está vacía?\", array_list.empty())"
   ]
  }
 ],
 "metadata": {
  "kernelspec": {
   "display_name": "Python 3",
   "language": "python",
   "name": "python3"
  },
  "language_info": {
   "codemirror_mode": {
    "name": "ipython",
    "version": 3
   },
   "file_extension": ".py",
   "mimetype": "text/x-python",
   "name": "python",
   "nbconvert_exporter": "python",
   "pygments_lexer": "ipython3",
   "version": "3.13.0"
  }
 },
 "nbformat": 4,
 "nbformat_minor": 2
}
