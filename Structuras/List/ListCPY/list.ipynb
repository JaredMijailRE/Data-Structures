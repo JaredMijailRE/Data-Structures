{
 "cells": [
  {
   "cell_type": "code",
   "execution_count": 1,
   "metadata": {},
   "outputs": [
    {
     "name": "stdout",
     "output_type": "stream",
     "text": [
      "¿La lista está vacía? True\n",
      "Contenido de la lista: { 10, 20 }\n",
      "¿Está el valor 10 en la lista? True\n",
      "Contenido de la lista después de borrar 10: { 20 }\n",
      "Contenido de la lista después de AddBefore y AddAfter: { 5, 20, 30 }\n",
      "Contenido de la lista después de PopBack: { 5, 20 }\n",
      "Contenido de la lista después de PopFront: { 20 }\n"
     ]
    }
   ],
   "source": [
    "# Importar el módulo que contiene la clase StaticArrayList\n",
    "from Debug import listPy\n",
    "\n",
    "# Crear una lista estática con capacidad 5\n",
    "array_list = listPy.StaticArrayList(5)\n",
    "\n",
    "# Verificar si la lista está vacía\n",
    "print(\"¿La lista está vacía?\", array_list.empty())\n",
    "\n",
    "# Agregar elementos al frente y al final\n",
    "array_list.push_front(10)\n",
    "array_list.push_back(20)\n",
    "\n",
    "# Imprimir la lista\n",
    "print(\"Contenido de la lista:\", array_list.print_list())\n",
    "\n",
    "# Buscar un elemento en la lista\n",
    "print(\"¿Está el valor 10 en la lista?\", array_list.find(10))\n",
    "\n",
    "# Eliminar un elemento de la lista\n",
    "array_list.erase(10)\n",
    "print(\"Contenido de la lista después de borrar 10:\", array_list.print_list())\n",
    "\n",
    "# Agregar elementos antes y después de un valor específico\n",
    "array_list.add_before(20, 5)  # Añade 5 antes del 20\n",
    "array_list.add_after(20, 30)  # Añade 30 después del 20\n",
    "print(\"Contenido de la lista después de AddBefore y AddAfter:\", array_list.print_list())\n",
    "\n",
    "# Eliminar un elemento del final\n",
    "array_list.pop_back()\n",
    "print(\"Contenido de la lista después de PopBack:\", array_list.print_list())\n",
    "\n",
    "# Eliminar un elemento del frente\n",
    "array_list.pop_front()\n",
    "print(\"Contenido de la lista después de PopFront:\", array_list.print_list())\n"
   ]
  }
 ],
 "metadata": {
  "kernelspec": {
   "display_name": "Python 3",
   "language": "python",
   "name": "python3"
  },
  "language_info": {
   "codemirror_mode": {
    "name": "ipython",
    "version": 3
   },
   "file_extension": ".py",
   "mimetype": "text/x-python",
   "name": "python",
   "nbconvert_exporter": "python",
   "pygments_lexer": "ipython3",
   "version": "3.13.0"
  }
 },
 "nbformat": 4,
 "nbformat_minor": 2
}
